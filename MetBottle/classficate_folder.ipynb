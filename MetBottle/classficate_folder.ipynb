{
 "cells": [
  {
   "cell_type": "code",
   "execution_count": null,
   "metadata": {},
   "outputs": [],
   "source": [
    "import glob, os, random # --- (*1)\n",
    "# ファイル列挙 --- (*2)\n",
    "\n",
    "dir = \"/home/kazuki/Documents/myWork/DataSet/Met_Bottle_DataSet0826/train/bad2/\"\n",
    "files = glob.glob(\"{0}*.png\".format(dir))\n",
    "files = random.sample(files, len(files))\n",
    "\n",
    "i = 1\n",
    "for old_name in files:\n",
    "    # 数値を三桁(001)形式にそろえる --- (*4)\n",
    "    zero_i = 'valdation/bad' + \"{0:04d}\".format(i)\n",
    "    # ファイル名を作る\n",
    "    new_name = zero_i + \".png\"\n",
    "    new_name = os.path.join(dir, new_name)\n",
    "    # 改名する --- (*5)\n",
    "    os.(old_name, new_name)\n",
    "    # 状況を報告\n",
    "    print(old_name + \"→\" + new_name)\n",
    "    # 連番のため数値を加算 --- (*6)\n",
    "    i += 1"
   ]
  }
 ],
 "metadata": {
  "kernelspec": {
   "display_name": "Python 3.6.10 64-bit ('keras_py36': conda)",
   "language": "python",
   "name": "python361064bitkeraspy36condaa1a3aa17e66c4a58a6df3c267c53f668"
  },
  "language_info": {
   "codemirror_mode": {
    "name": "ipython",
    "version": 3
   },
   "file_extension": ".py",
   "mimetype": "text/x-python",
   "name": "python",
   "nbconvert_exporter": "python",
   "pygments_lexer": "ipython3",
   "version": "3.6.10"
  }
 },
 "nbformat": 4,
 "nbformat_minor": 4
}
