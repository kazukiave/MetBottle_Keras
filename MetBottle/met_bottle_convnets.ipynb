{
 "cells": [
  {
   "cell_type": "code",
   "execution_count": 4,
   "metadata": {},
   "outputs": [
    {
     "data": {
      "text/plain": [
       "'2.4.3'"
      ]
     },
     "execution_count": 4,
     "metadata": {},
     "output_type": "execute_result"
    }
   ],
   "source": [
    "import keras\n",
    "keras.__version__"
   ]
  },
  {
   "cell_type": "code",
   "execution_count": 80,
   "metadata": {},
   "outputs": [],
   "source": [
    "from keras import layers\n",
    "from keras import models\n",
    "\n",
    "image_size = 28 * 3\n",
    "model = models.Sequential()\n",
    "model.add(layers.Conv2D(32, (3, 3), activation='relu', input_shape=(image_size, image_size, 1)))\n",
    "model.add(layers.MaxPooling2D((2, 2)))\n",
    "model.add(layers.Conv2D(64, (3, 3), activation='relu'))\n",
    "model.add(layers.MaxPooling2D((2, 2)))\n",
    "model.add(layers.Conv2D(128, (3, 3), activation='relu'))\n",
    "model.add(layers.MaxPooling2D((2, 2)))"
   ]
  },
  {
   "cell_type": "code",
   "execution_count": 81,
   "metadata": {},
   "outputs": [
    {
     "name": "stdout",
     "output_type": "stream",
     "text": [
      "Model: \"sequential_10\"\n",
      "_________________________________________________________________\n",
      "Layer (type)                 Output Shape              Param #   \n",
      "=================================================================\n",
      "conv2d_32 (Conv2D)           (None, 82, 82, 32)        320       \n",
      "_________________________________________________________________\n",
      "max_pooling2d_27 (MaxPooling (None, 41, 41, 32)        0         \n",
      "_________________________________________________________________\n",
      "conv2d_33 (Conv2D)           (None, 39, 39, 64)        18496     \n",
      "_________________________________________________________________\n",
      "max_pooling2d_28 (MaxPooling (None, 19, 19, 64)        0         \n",
      "_________________________________________________________________\n",
      "conv2d_34 (Conv2D)           (None, 17, 17, 128)       73856     \n",
      "_________________________________________________________________\n",
      "max_pooling2d_29 (MaxPooling (None, 8, 8, 128)         0         \n",
      "=================================================================\n",
      "Total params: 92,672\n",
      "Trainable params: 92,672\n",
      "Non-trainable params: 0\n",
      "_________________________________________________________________\n"
     ]
    }
   ],
   "source": [
    "model.summary()"
   ]
  },
  {
   "cell_type": "code",
   "execution_count": 82,
   "metadata": {},
   "outputs": [],
   "source": [
    "model.add(layers.Flatten())\n",
    "model.add(layers.Dense(512, activation='relu'))\n",
    "model.add(layers.Dense(1, activation='sigmoid'))"
   ]
  },
  {
   "cell_type": "code",
   "execution_count": 83,
   "metadata": {
    "scrolled": true
   },
   "outputs": [
    {
     "name": "stdout",
     "output_type": "stream",
     "text": [
      "Model: \"sequential_10\"\n",
      "_________________________________________________________________\n",
      "Layer (type)                 Output Shape              Param #   \n",
      "=================================================================\n",
      "conv2d_32 (Conv2D)           (None, 82, 82, 32)        320       \n",
      "_________________________________________________________________\n",
      "max_pooling2d_27 (MaxPooling (None, 41, 41, 32)        0         \n",
      "_________________________________________________________________\n",
      "conv2d_33 (Conv2D)           (None, 39, 39, 64)        18496     \n",
      "_________________________________________________________________\n",
      "max_pooling2d_28 (MaxPooling (None, 19, 19, 64)        0         \n",
      "_________________________________________________________________\n",
      "conv2d_34 (Conv2D)           (None, 17, 17, 128)       73856     \n",
      "_________________________________________________________________\n",
      "max_pooling2d_29 (MaxPooling (None, 8, 8, 128)         0         \n",
      "_________________________________________________________________\n",
      "flatten_8 (Flatten)          (None, 8192)              0         \n",
      "_________________________________________________________________\n",
      "dense_17 (Dense)             (None, 512)               4194816   \n",
      "_________________________________________________________________\n",
      "dense_18 (Dense)             (None, 1)                 513       \n",
      "=================================================================\n",
      "Total params: 4,288,001\n",
      "Trainable params: 4,288,001\n",
      "Non-trainable params: 0\n",
      "_________________________________________________________________\n"
     ]
    }
   ],
   "source": [
    "model.summary()"
   ]
  },
  {
   "cell_type": "code",
   "execution_count": 84,
   "metadata": {},
   "outputs": [],
   "source": [
    "\n",
    "from keras import optimizers\n",
    "\n",
    "model.compile(loss='binary_crossentropy',\n",
    "              optimizer=optimizers.RMSprop(lr=1e-4),\n",
    "              metrics=['acc'])"
   ]
  },
  {
   "cell_type": "code",
   "execution_count": 85,
   "metadata": {},
   "outputs": [],
   "source": [
    "base_dir = '/home/kazuki/Documents/myWork/DataSet/Met_Bottle_DataSet0826'\n",
    "\n",
    "train_dir = os.path.join(base_dir, 'train_pre_resize')\n",
    "validation_dir = os.path.join(base_dir, 'validation')\n",
    "test_dir = os.path.join(base_dir, 'test')\n"
   ]
  },
  {
   "cell_type": "code",
   "execution_count": 93,
   "metadata": {},
   "outputs": [
    {
     "name": "stdout",
     "output_type": "stream",
     "text": [
      "Found 2646 images belonging to 2 classes.\n",
      "Found 200 images belonging to 2 classes.\n",
      "<keras_preprocessing.image.directory_iterator.DirectoryIterator object at 0x7f8df47ffd68>\n"
     ]
    }
   ],
   "source": [
    "\n",
    "train_datagen = ImageDataGenerator(rescale=1./255)\n",
    "test_datagen = ImageDataGenerator(rescale=1./255)\n",
    "\n",
    "batch_size = 128\n",
    "train_generator = train_datagen.flow_from_directory(\n",
    "    train_dir,                      # ターゲットディレクトリ\n",
    "    target_size=(image_size,image_size),          # すべての画像サイズを120*40に変更\n",
    "    color_mode='grayscale',     # ここを追加\n",
    "    batch_size=batch_size,                  # バッチサイズ\n",
    "    class_mode='binary')            # binary_crossentropyを使用するため2値のラベルが必要\n",
    "\n",
    "validation_generator = test_datagen.flow_from_directory(\n",
    "    validation_dir,\n",
    "    target_size=(image_size, image_size),\n",
    "    color_mode='grayscale',\n",
    "    batch_size=batch_size,\n",
    "    class_mode='binary')\n",
    "\n"
   ]
  },
  {
   "cell_type": "code",
   "execution_count": 87,
   "metadata": {},
   "outputs": [
    {
     "name": "stdout",
     "output_type": "stream",
     "text": [
      "data batch shape: (128, 84, 84, 1)\n",
      "labels batch shape: (128,)\n"
     ]
    }
   ],
   "source": [
    "for data_batch, labels_batch in train_generator:\n",
    "    print('data batch shape:', data_batch.shape)\n",
    "    print('labels batch shape:', labels_batch.shape)\n",
    "    break"
   ]
  },
  {
   "cell_type": "code",
   "execution_count": 88,
   "metadata": {},
   "outputs": [
    {
     "name": "stdout",
     "output_type": "stream",
     "text": [
      "Epoch 1/30\n",
      "30/30 [==============================] - 33s 1s/step - loss: 0.5208 - acc: 0.7285 - val_loss: 0.6006 - val_acc: 0.6400\n",
      "Epoch 2/30\n",
      "30/30 [==============================] - 33s 1s/step - loss: 0.4803 - acc: 0.7501 - val_loss: 0.6650 - val_acc: 0.5162\n",
      "Epoch 3/30\n",
      "30/30 [==============================] - 32s 1s/step - loss: 0.4655 - acc: 0.7612 - val_loss: 0.5672 - val_acc: 0.7050\n",
      "Epoch 4/30\n",
      "30/30 [==============================] - 33s 1s/step - loss: 0.4593 - acc: 0.7633 - val_loss: 0.5984 - val_acc: 0.6662\n",
      "Epoch 5/30\n",
      "30/30 [==============================] - 33s 1s/step - loss: 0.4432 - acc: 0.7774 - val_loss: 0.5267 - val_acc: 0.7700\n",
      "Epoch 6/30\n",
      "30/30 [==============================] - 34s 1s/step - loss: 0.4417 - acc: 0.7754 - val_loss: 0.5537 - val_acc: 0.6840\n",
      "Epoch 7/30\n",
      "30/30 [==============================] - 33s 1s/step - loss: 0.4318 - acc: 0.7854 - val_loss: 0.5363 - val_acc: 0.7500\n",
      "Epoch 8/30\n",
      "30/30 [==============================] - 36s 1s/step - loss: 0.4242 - acc: 0.7912 - val_loss: 0.5467 - val_acc: 0.7154\n",
      "Epoch 9/30\n",
      "30/30 [==============================] - 34s 1s/step - loss: 0.4133 - acc: 0.7944 - val_loss: 0.5347 - val_acc: 0.7250\n",
      "Epoch 10/30\n",
      "30/30 [==============================] - 33s 1s/step - loss: 0.4082 - acc: 0.8032 - val_loss: 0.4916 - val_acc: 0.7712\n",
      "Epoch 11/30\n",
      "30/30 [==============================] - 35s 1s/step - loss: 0.4078 - acc: 0.8017 - val_loss: 0.4611 - val_acc: 0.8100\n",
      "Epoch 12/30\n",
      "30/30 [==============================] - 34s 1s/step - loss: 0.3900 - acc: 0.8190 - val_loss: 0.4996 - val_acc: 0.7404\n",
      "Epoch 13/30\n",
      "30/30 [==============================] - 34s 1s/step - loss: 0.3995 - acc: 0.8096 - val_loss: 0.4722 - val_acc: 0.7750\n",
      "Epoch 14/30\n",
      "30/30 [==============================] - 35s 1s/step - loss: 0.3828 - acc: 0.8171 - val_loss: 0.5046 - val_acc: 0.7452\n",
      "Epoch 15/30\n",
      "30/30 [==============================] - 34s 1s/step - loss: 0.3782 - acc: 0.8215 - val_loss: 0.4563 - val_acc: 0.7800\n",
      "Epoch 16/30\n",
      "30/30 [==============================] - 37s 1s/step - loss: 0.3732 - acc: 0.8194 - val_loss: 0.4959 - val_acc: 0.7544\n",
      "Epoch 17/30\n",
      "30/30 [==============================] - 35s 1s/step - loss: 0.3583 - acc: 0.8320 - val_loss: 0.6593 - val_acc: 0.6250\n",
      "Epoch 18/30\n",
      "30/30 [==============================] - 35s 1s/step - loss: 0.3626 - acc: 0.8289 - val_loss: 0.5369 - val_acc: 0.7254\n",
      "Epoch 19/30\n",
      "30/30 [==============================] - 36s 1s/step - loss: 0.3569 - acc: 0.8320 - val_loss: 0.5090 - val_acc: 0.7100\n",
      "Epoch 20/30\n",
      "30/30 [==============================] - 35s 1s/step - loss: 0.3414 - acc: 0.8439 - val_loss: 0.4099 - val_acc: 0.8158\n",
      "Epoch 21/30\n",
      "30/30 [==============================] - 34s 1s/step - loss: 0.3520 - acc: 0.8387 - val_loss: 0.4480 - val_acc: 0.7850\n",
      "Epoch 22/30\n",
      "30/30 [==============================] - 36s 1s/step - loss: 0.3462 - acc: 0.8383 - val_loss: 0.4765 - val_acc: 0.7416\n",
      "Epoch 23/30\n",
      "30/30 [==============================] - 34s 1s/step - loss: 0.3302 - acc: 0.8531 - val_loss: 0.4479 - val_acc: 0.7850\n",
      "Epoch 24/30\n",
      "30/30 [==============================] - 35s 1s/step - loss: 0.3245 - acc: 0.8546 - val_loss: 0.4132 - val_acc: 0.8040\n",
      "Epoch 25/30\n",
      "30/30 [==============================] - 35s 1s/step - loss: 0.3316 - acc: 0.8483 - val_loss: 0.4388 - val_acc: 0.7800\n",
      "Epoch 26/30\n",
      "30/30 [==============================] - 34s 1s/step - loss: 0.3167 - acc: 0.8581 - val_loss: 0.5716 - val_acc: 0.6892\n",
      "Epoch 27/30\n",
      "30/30 [==============================] - 35s 1s/step - loss: 0.3122 - acc: 0.8581 - val_loss: 0.3890 - val_acc: 0.8450\n",
      "Epoch 28/30\n",
      "30/30 [==============================] - 34s 1s/step - loss: 0.3098 - acc: 0.8570 - val_loss: 0.4917 - val_acc: 0.7446\n",
      "Epoch 29/30\n",
      "30/30 [==============================] - 34s 1s/step - loss: 0.3084 - acc: 0.8591 - val_loss: 0.4114 - val_acc: 0.8100\n",
      "Epoch 30/30\n",
      "30/30 [==============================] - 35s 1s/step - loss: 0.2972 - acc: 0.8652 - val_loss: 0.4519 - val_acc: 0.7554\n"
     ]
    }
   ],
   "source": [
    "history = model.fit_generator(\n",
    "      train_generator,\n",
    "      steps_per_epoch=30,\n",
    "      epochs=30,\n",
    "      validation_data=validation_generator,\n",
    "      validation_steps=50)"
   ]
  },
  {
   "cell_type": "code",
   "execution_count": 89,
   "metadata": {},
   "outputs": [],
   "source": [
    "model.save('met_bottle_model0826_v3.h5')"
   ]
  },
  {
   "cell_type": "code",
   "execution_count": 90,
   "metadata": {},
   "outputs": [
    {
     "data": {
      "image/png": "[encoded data removed]",
      "text/plain": [
       "<Figure size 432x288 with 1 Axes>"
      ]
     },
     "metadata": {
      "needs_background": "light"
     },
     "output_type": "display_data"
    },
    {
     "data": {
      "image/png": "[encoded data removed]",
      "text/plain": [
       "<Figure size 432x288 with 1 Axes>"
      ]
     },
     "metadata": {
      "needs_background": "light"
     },
     "output_type": "display_data"
    }
   ],
   "source": [
    "import matplotlib.pyplot as plt\n",
    "\n",
    "acc = history.history['acc']\n",
    "val_acc = history.history['val_acc']\n",
    "loss = history.history['loss']\n",
    "val_loss = history.history['val_loss']\n",
    "\n",
    "epochs = range(len(acc))\n",
    "\n",
    "plt.plot(epochs, acc, 'bo', label='Training acc')\n",
    "plt.plot(epochs, val_acc, 'b', label='Validation acc')\n",
    "plt.title('Training and validation accuracy')\n",
    "plt.legend()\n",
    "\n",
    "plt.figure()\n",
    "\n",
    "plt.plot(epochs, loss, 'bo', label='Training loss')\n",
    "plt.plot(epochs, val_loss, 'b', label='Validation loss')\n",
    "plt.title('Training and validation loss')\n",
    "plt.legend()\n",
    "\n",
    "plt.show()"
   ]
  },
  {
   "cell_type": "code",
   "execution_count": null,
   "metadata": {},
   "outputs": [],
   "source": []
  }
 ],
 "metadata": {
  "kernelspec": {
   "display_name": "Python 3.6.10 64-bit ('keras_py36': conda)",
   "language": "python",
   "name": "python361064bitkeraspy36condaa1a3aa17e66c4a58a6df3c267c53f668"
  },
  "language_info": {
   "codemirror_mode": {
    "name": "ipython",
    "version": 3
   },
   "file_extension": ".py",
   "mimetype": "text/x-python",
   "name": "python",
   "nbconvert_exporter": "python",
   "pygments_lexer": "ipython3",
   "version": "3.6.10"
  }
 },
 "nbformat": 4,
 "nbformat_minor": 4
}
