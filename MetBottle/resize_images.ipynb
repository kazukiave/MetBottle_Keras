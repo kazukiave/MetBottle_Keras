{
 "cells": [
  {
   "cell_type": "code",
   "execution_count": 9,
   "metadata": {},
   "outputs": [
    {
     "name": "stdout",
     "output_type": "stream",
     "text": [
      "1917\n"
     ]
    }
   ],
   "source": [
    "#ps://qiita.com/NaokiKojima4994/items/9e49021b671a7720bace\n",
    "\n",
    "from PIL import Image\n",
    "import glob, os, random # --- (*1)\n",
    "# ファイル列挙 --- (*2)\n",
    "\n",
    "\n",
    "class image_aspect():\n",
    "\n",
    "    def __init__(self, image_file, aspect_width, aspect_height):\n",
    "        self.img = Image.open(image_file)\n",
    "        self.aspect_width = aspect_width\n",
    "        self.aspect_height = aspect_height\n",
    "        self.result_image = None\n",
    "\n",
    "    def change_aspect_rate(self):\n",
    "\n",
    "        img_width = self.img.size[0]\n",
    "        img_height = self.img.size[1]\n",
    "\n",
    "        if img_width > img_height:\n",
    "            rate = self.aspect_width / img_width\n",
    "        else:\n",
    "            rate = self.aspect_height / img_height\n",
    "\n",
    "        rate = round(rate, 1)\n",
    "        self.img = self.img.resize((int(img_width * rate), int(img_height * rate)))\n",
    "        return self\n",
    "\n",
    "    def past_background(self):\n",
    "        self.result_image = Image.new(\"RGB\", [self.aspect_width, self.aspect_height], (0, 0, 0, 255))\n",
    "        self.result_image.paste(self.img, (int((self.aspect_width - self.img.size[0]) / 2), int((self.aspect_height - self.img.size[1]) / 2)))\n",
    "        return self\n",
    "\n",
    "    def save_result(self, file_name):\n",
    "        self.result_image.save(file_name)\n",
    "\n",
    "# example\n",
    "if __name__ == \"__main__\":\n",
    "    dir = \"/home/kazuki/Documents/myWork/DataSet/Met_Bottle_DataSet0826_2/train/bad2/\"\n",
    "    files = glob.glob(\"{0}*.png\".format(dir))\n",
    "    print(len(files))\n",
    "    i = 1\n",
    "    for old_name in files:\n",
    "        image_aspect(old_name, 500, 500)\\\n",
    "            .change_aspect_rate()\\\n",
    "            .past_background()\\\n",
    "            .save_result(old_name)"
   ]
  },
  {
   "cell_type": "code",
   "execution_count": null,
   "metadata": {},
   "outputs": [],
   "source": []
  }
 ],
 "metadata": {
  "kernelspec": {
   "display_name": "Python 3.6.10 64-bit ('keras_py36': conda)",
   "language": "python",
   "name": "python361064bitkeraspy36condaa1a3aa17e66c4a58a6df3c267c53f668"
  },
  "language_info": {
   "codemirror_mode": {
    "name": "ipython",
    "version": 3
   },
   "file_extension": ".py",
   "mimetype": "text/x-python",
   "name": "python",
   "nbconvert_exporter": "python",
   "pygments_lexer": "ipython3",
   "version": "3.6.10"
  }
 },
 "nbformat": 4,
 "nbformat_minor": 4
}
